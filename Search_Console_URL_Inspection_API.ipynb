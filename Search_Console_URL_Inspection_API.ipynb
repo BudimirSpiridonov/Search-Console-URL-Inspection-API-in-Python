{
  "nbformat": 4,
  "nbformat_minor": 0,
  "metadata": {
    "colab": {
      "name": "Search Console URL Inspection API ",
      "provenance": [],
      "collapsed_sections": []
    },
    "kernelspec": {
      "display_name": "Python 3",
      "name": "python3"
    },
    "language_info": {
      "name": "python"
    }
  },
  "cells": [
    {
      "cell_type": "code",
      "metadata": {
        "id": "-dSIy6j5LADT"
      },
      "source": [
        "from google.oauth2 import service_account\n",
        "from googleapiclient.discovery import build\n",
        "import os\n",
        "from google.colab import drive\n",
        "import json\n",
        "import pandas as pd\n",
        "\n",
        "from google.colab import auth\n",
        "auth.authenticate_user()"
      ],
      "execution_count": 1,
      "outputs": []
    },
    {
      "cell_type": "code",
      "metadata": {
        "id": "Ic503KW2gEhw",
        "colab": {
          "base_uri": "https://localhost:8080/"
        },
        "outputId": "3afd8747-3e57-4587-8c14-5a15ac1c4aad"
      },
      "source": [
        "#Access Drive\n",
        "drive.mount('/content/drive')\n",
        "os.chdir(\"/content/drive/Shared drives/Colab_Notebooks-SEO-Blick/GSC/\")\n",
        "os.listdir()\n",
        "#GSC\n",
        "gsckey = 'gscblick-590cb1886f0d.json'"
      ],
      "execution_count": 2,
      "outputs": [
        {
          "output_type": "stream",
          "name": "stdout",
          "text": [
            "Mounted at /content/drive\n"
          ]
        }
      ]
    },
    {
      "cell_type": "code",
      "source": [
        "#Connect GSC \n",
        "def connect(gsckey):\n",
        "  scope = ['https://www.googleapis.com/auth/webmasters']\n",
        "  credentials = service_account.Credentials.from_service_account_file(gsckey, scopes=scope)\n",
        "  service = build('searchconsole','v1',credentials=credentials)\n",
        "  return service"
      ],
      "metadata": {
        "id": "p_axtNnQhsu6"
      },
      "execution_count": 3,
      "outputs": []
    },
    {
      "cell_type": "code",
      "metadata": {
        "id": "dUHVqSrzzWRT",
        "colab": {
          "base_uri": "https://localhost:8080/"
        },
        "outputId": "2c79f18e-4721-4980-8e43-d0a4fc62ad76"
      },
      "source": [
        "service = connect(gsckey)\n",
        "\n",
        "request = {\n",
        "  'inspectionUrl': 'https://www.blick.ch/people-tv/international/dschungelcamp-star-hatte-ersten-beauty-eingriff-mit-18-jahren-so-sah-harald-gloeoeckler-frueher-aus-id17188958.html',\n",
        "  'siteUrl': 'https://www.blick.ch/',\n",
        "  'languageCode': 'de-CH' \n",
        "}\n",
        "\n",
        "response = service.urlInspection().index().inspect(body=request).execute()\n",
        "\n",
        "inspectionResult = response['inspectionResult']\n",
        "print(inspectionResult)"
      ],
      "execution_count": 4,
      "outputs": [
        {
          "output_type": "stream",
          "name": "stdout",
          "text": [
            "{'inspectionResultLink': 'https://search.google.com/search-console/inspect?resource_id=https://www.blick.ch/&id=7Jb7-PaCGojxNQoBjdqHNQ&utm_medium=link&utm_source=api', 'indexStatusResult': {'verdict': 'PASS', 'coverageState': 'Gesendet und indexiert', 'robotsTxtState': 'ALLOWED', 'indexingState': 'INDEXING_ALLOWED', 'lastCrawlTime': '2022-01-31T13:13:26Z', 'pageFetchState': 'SUCCESSFUL', 'googleCanonical': 'https://www.blick.ch/people-tv/international/dschungelcamp-star-hatte-ersten-beauty-eingriff-mit-18-jahren-so-sah-harald-gloeoeckler-frueher-aus-id17188958.html', 'userCanonical': 'https://www.blick.ch/people-tv/international/dschungelcamp-star-hatte-ersten-beauty-eingriff-mit-18-jahren-so-sah-harald-gloeoeckler-frueher-aus-id17188958.html', 'sitemap': ['https://www.blick.ch/article.xml'], 'crawledAs': 'MOBILE'}, 'ampResult': {'verdict': 'PASS', 'ampUrl': 'https://amp.blick.ch/people-tv/international/dschungelcamp-star-hatte-ersten-beauty-eingriff-mit-18-jahren-so-sah-harald-gloeoeckler-frueher-aus-id17188958.html', 'robotsTxtState': 'ALLOWED', 'indexingState': 'AMP_INDEXING_ALLOWED', 'ampIndexStatusVerdict': 'PASS', 'lastCrawlTime': '2022-01-31T13:13:33Z', 'pageFetchState': 'SUCCESSFUL'}, 'mobileUsabilityResult': {'verdict': 'PASS'}, 'richResultsResult': {'verdict': 'PASS', 'detectedItems': [{'richResultType': 'Navigationspfade', 'items': [{'name': 'Unbenanntes Element'}]}]}}\n"
          ]
        }
      ]
    },
    {
      "cell_type": "code",
      "source": [
        "lastCrawlTime = response['inspectionResult']['indexStatusResult']['lastCrawlTime']\n",
        "print(\"lastCrawlTime: \" + lastCrawlTime)"
      ],
      "metadata": {
        "id": "OWPVjSeTQKfp",
        "colab": {
          "base_uri": "https://localhost:8080/"
        },
        "outputId": "bde670fa-d80b-4bdb-a18d-a113f5ed5ccd"
      },
      "execution_count": 5,
      "outputs": [
        {
          "output_type": "stream",
          "name": "stdout",
          "text": [
            "lastCrawlTime: 2022-01-31T13:13:26Z\n"
          ]
        }
      ]
    },
    {
      "cell_type": "code",
      "source": [
        ""
      ],
      "metadata": {
        "id": "AWnhLhg8MxdH"
      },
      "execution_count": 5,
      "outputs": []
    },
    {
      "cell_type": "code",
      "metadata": {
        "id": "XfRcIef_PtG2"
      },
      "source": [
        ""
      ],
      "execution_count": 5,
      "outputs": []
    }
  ]
}